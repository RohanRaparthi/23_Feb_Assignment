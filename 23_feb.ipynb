{
 "cells": [
  {
   "cell_type": "code",
   "execution_count": 2,
   "id": "4277175d-1483-4171-a938-a603ee46ccb3",
   "metadata": {},
   "outputs": [
    {
     "name": "stdout",
     "output_type": "stream",
     "text": [
      "0     4\n",
      "1     8\n",
      "2    15\n",
      "3    16\n",
      "4    23\n",
      "5    42\n",
      "dtype: int64\n"
     ]
    }
   ],
   "source": [
    "import pandas as pd\n",
    "#answer1\n",
    "ds = pd.Series([4,8,15,16,23,42])\n",
    "print(ds)"
   ]
  },
  {
   "cell_type": "code",
   "execution_count": 3,
   "id": "9e3a32f9-08be-4a5c-b8c0-c19c2cb1a4af",
   "metadata": {},
   "outputs": [
    {
     "name": "stdout",
     "output_type": "stream",
     "text": [
      "0        string\n",
      "1      pwskills\n",
      "2             3\n",
      "3            hi\n",
      "4             5\n",
      "5           lab\n",
      "6    assignment\n",
      "7             8\n",
      "8          test\n",
      "9            10\n",
      "dtype: object\n"
     ]
    }
   ],
   "source": [
    "#answer2\n",
    "var=pd.Series(['string','pwskills',3,'hi',5,'lab','assignment',8,'test',10])\n",
    "print(var)"
   ]
  },
  {
   "cell_type": "code",
   "execution_count": 8,
   "id": "e0c592cf-4b8e-4991-923b-b2b8158d42c0",
   "metadata": {},
   "outputs": [
    {
     "name": "stdout",
     "output_type": "stream",
     "text": [
      "     Name  Age  Gender\n",
      "0   Alice   25  Female\n",
      "1     Bob   30    Male\n",
      "2  Claire   27  Female\n"
     ]
    }
   ],
   "source": [
    "#answer3\n",
    "data={'Name':['Alice','Bob','Claire'],'Age':[25,30,27],'Gender':['Female','Male','Female']}\n",
    "df=pd.DataFrame(data)\n",
    "print(df)"
   ]
  },
  {
   "cell_type": "markdown",
   "id": "18c6ac65-f0fc-4923-bc20-4ad4e8cebc26",
   "metadata": {},
   "source": [
    "Answer4:\n",
    "\n",
    "Series can only contain single list with index, whereas dataframe can be made of more than one series or we can say that a dataframe is a collection of series that can be used to analyse the data.\n",
    "\n",
    "example:creating a simple series\n"
   ]
  },
  {
   "cell_type": "code",
   "execution_count": 9,
   "id": "49c8c4ec-f1ed-409c-9795-bbc35297d069",
   "metadata": {},
   "outputs": [
    {
     "name": "stdout",
     "output_type": "stream",
     "text": [
      "0    Jitender\n",
      "1     Purnima\n",
      "2       Arpit\n",
      "3       Jyoti\n",
      "dtype: object\n"
     ]
    }
   ],
   "source": [
    "#answer4_example\n",
    "author = ['Jitender', 'Purnima', 'Arpit', 'Jyoti']\n",
    "auth_series = pd.Series(author)\n",
    "print(auth_series)"
   ]
  },
  {
   "cell_type": "markdown",
   "id": "a28868dc-0c2e-4828-9c2c-96aee0323042",
   "metadata": {},
   "source": [
    "Answer5\n",
    "\n",
    "some common functions you can use to manipulate data in a Pandas DataFrame are:\n",
    "1. read_csv()\n",
    "2. head()\n",
    "3. describe()\n",
    "4. memory_usage()\n",
    "5. astype()\n",
    "6. loc[:]\n",
    "7. to_datetime()\n",
    "8. value_counts()\n",
    "9. drop_duplicates()\n",
    "10. groupby()\n"
   ]
  },
  {
   "cell_type": "markdown",
   "id": "27369acc-3c28-4508-95f1-0babfc8e4564",
   "metadata": {},
   "source": [
    "Answer6\n",
    "\n",
    "All pandas data structures are value-mutable (the values they contain can be altered) but not always size-mutable. The length of a Series cannot be changed, but, for example, columns can be inserted into a DataFrame."
   ]
  },
  {
   "cell_type": "markdown",
   "id": "b04cf828-5619-4f97-883f-008cbbb23515",
   "metadata": {},
   "source": [
    "Answer7\n",
    "\n"
   ]
  },
  {
   "cell_type": "code",
   "execution_count": 11,
   "id": "56c1cab3-1db9-431c-a05b-3067c41e5cb0",
   "metadata": {},
   "outputs": [
    {
     "name": "stdout",
     "output_type": "stream",
     "text": [
      "     Name  Age  Gender\n",
      "0   Alice   25  Female\n",
      "1     Bob   30    Male\n",
      "2  Claire   27  Female\n"
     ]
    }
   ],
   "source": [
    "data={'Name':['Alice','Bob','Claire'],'Age':[25,30,27],'Gender':['Female','Male','Female']}\n",
    "df1=pd.DataFrame(data)\n",
    "print(df1)"
   ]
  },
  {
   "cell_type": "code",
   "execution_count": null,
   "id": "a8aa45cd-5d4f-4519-bc5c-7dbcb6a4e68a",
   "metadata": {},
   "outputs": [],
   "source": []
  }
 ],
 "metadata": {
  "kernelspec": {
   "display_name": "Python 3 (ipykernel)",
   "language": "python",
   "name": "python3"
  },
  "language_info": {
   "codemirror_mode": {
    "name": "ipython",
    "version": 3
   },
   "file_extension": ".py",
   "mimetype": "text/x-python",
   "name": "python",
   "nbconvert_exporter": "python",
   "pygments_lexer": "ipython3",
   "version": "3.10.8"
  }
 },
 "nbformat": 4,
 "nbformat_minor": 5
}
